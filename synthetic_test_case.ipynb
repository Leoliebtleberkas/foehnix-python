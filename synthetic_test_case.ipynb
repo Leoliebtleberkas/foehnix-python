{
 "cells": [
  {
   "cell_type": "code",
   "execution_count": 1,
   "metadata": {},
   "outputs": [],
   "source": [
    "# Import essentials\n",
    "import numpy as np\n",
    "import pandas as pd\n",
    "\n",
    "import foehnix\n",
    "\n",
    "# Set up my data\n",
    "np.random.seed(666)\n",
    "\n",
    "# data points\n",
    "N = 1000\n",
    "# wind speed\n",
    "mu1 = 10\n",
    "mu2 = 25\n",
    "sd1 = 4\n",
    "sd2 = 7\n",
    "\n",
    "ff = np.random.normal(loc=mu1, scale=sd1, size=int(N/2))\n",
    "ff = np.append(ff, np.random.normal(loc=mu2, scale=sd2, size=int(N/2)))\n",
    "\n",
    "# relative humidity\n",
    "rh = 70 - ff + np.random.normal(loc=0, scale=5, size=N)\n",
    "\n",
    "# make a pandas data frame\n",
    "data = pd.DataFrame({'ff': ff, 'rh': rh})\n",
    "\n"
   ]
  },
  {
   "cell_type": "code",
   "execution_count": 2,
   "metadata": {},
   "outputs": [
    {
     "name": "stderr",
     "output_type": "stream",
     "text": [
      "2019-01-06 19:37:41: foehnix.foehnix: Calling Foehnix.no_concomitant_fit\n",
      "2019-01-06 19:37:41: foehnix.foehnix: EM iteration 0/100, ll =   -4047.77\n",
      "2019-01-06 19:37:41: foehnix.foehnix: EM iteration 1/100, ll =   -3989.13\n",
      "2019-01-06 19:37:41: foehnix.foehnix: EM iteration 2/100, ll =   -3930.95\n",
      "2019-01-06 19:37:41: foehnix.foehnix: EM iteration 3/100, ll =   -3877.18\n",
      "2019-01-06 19:37:41: foehnix.foehnix: EM iteration 4/100, ll =   -3833.70\n",
      "2019-01-06 19:37:41: foehnix.foehnix: EM iteration 5/100, ll =   -3803.64\n",
      "2019-01-06 19:37:41: foehnix.foehnix: EM iteration 6/100, ll =   -3785.74\n",
      "2019-01-06 19:37:41: foehnix.foehnix: EM iteration 7/100, ll =   -3776.35\n",
      "2019-01-06 19:37:41: foehnix.foehnix: EM iteration 8/100, ll =   -3772.02\n",
      "2019-01-06 19:37:41: foehnix.foehnix: EM iteration 9/100, ll =   -3770.44\n",
      "2019-01-06 19:37:41: foehnix.foehnix: EM iteration 10/100, ll =   -3770.28\n",
      "2019-01-06 19:37:41: foehnix.foehnix: EM iteration 11/100, ll =   -3770.84\n",
      "2019-01-06 19:37:41: foehnix.foehnix: Estimation finished, create final object.\n"
     ]
    }
   ],
   "source": [
    "# Create a simple Class\n",
    "simple = foehnix.Foehnix('ff', data)"
   ]
  },
  {
   "cell_type": "code",
   "execution_count": null,
   "metadata": {},
   "outputs": [],
   "source": []
  },
  {
   "cell_type": "code",
   "execution_count": 3,
   "metadata": {},
   "outputs": [
    {
     "name": "stderr",
     "output_type": "stream",
     "text": [
      "2019-01-06 19:37:41: foehnix.foehnix: Calling Foehnix.unreg_fit\n",
      "2019-01-06 19:37:41: foehnix.iwls_logit: Iteration 0, ll=      -356.4428, unregularized\n",
      "2019-01-06 19:37:41: foehnix.iwls_logit: Iteration 1, ll=      -293.7055, unregularized\n",
      "2019-01-06 19:37:41: foehnix.iwls_logit: Iteration 2, ll=      -278.1871, unregularized\n",
      "2019-01-06 19:37:41: foehnix.iwls_logit: Iteration 3, ll=      -276.4818, unregularized\n",
      "2019-01-06 19:37:41: foehnix.iwls_logit: Iteration 4, ll=      -276.4517, unregularized\n",
      "2019-01-06 19:37:41: foehnix.iwls_logit: Iteration 5, ll=      -276.4517, unregularized\n",
      "2019-01-06 19:37:41: foehnix.iwls_logit: Iteration 6, ll=      -276.4517, unregularized\n",
      "2019-01-06 19:37:41: foehnix.iwls_logit: Iteration 0, ll=      -210.1563, unregularized\n",
      "2019-01-06 19:37:41: foehnix.iwls_logit: Iteration 1, ll=      -209.3536, unregularized\n",
      "2019-01-06 19:37:41: foehnix.iwls_logit: Iteration 2, ll=      -209.3433, unregularized\n",
      "2019-01-06 19:37:41: foehnix.iwls_logit: Iteration 3, ll=      -209.3433, unregularized\n",
      "2019-01-06 19:37:41: foehnix.iwls_logit: Iteration 4, ll=      -209.3433, unregularized\n",
      "2019-01-06 19:37:41: foehnix.foehnix: EM iteration 0/100, ll =   -3253.85\n",
      "2019-01-06 19:37:41: foehnix.iwls_logit: Iteration 0, ll=      -169.2642, unregularized\n",
      "2019-01-06 19:37:41: foehnix.iwls_logit: Iteration 1, ll=      -169.0185, unregularized\n",
      "2019-01-06 19:37:41: foehnix.iwls_logit: Iteration 2, ll=      -169.0172, unregularized\n",
      "2019-01-06 19:37:41: foehnix.iwls_logit: Iteration 3, ll=      -169.0172, unregularized\n",
      "2019-01-06 19:37:41: foehnix.iwls_logit: Iteration 4, ll=      -169.0172, unregularized\n",
      "2019-01-06 19:37:41: foehnix.foehnix: EM iteration 1/100, ll =   -3211.87\n",
      "2019-01-06 19:37:41: foehnix.iwls_logit: Iteration 0, ll=      -155.7992, unregularized\n",
      "2019-01-06 19:37:41: foehnix.iwls_logit: Iteration 1, ll=      -155.7914, unregularized\n",
      "2019-01-06 19:37:41: foehnix.iwls_logit: Iteration 2, ll=      -155.7914, unregularized\n",
      "2019-01-06 19:37:41: foehnix.iwls_logit: Iteration 3, ll=      -155.7914, unregularized\n",
      "2019-01-06 19:37:41: foehnix.foehnix: EM iteration 2/100, ll =   -3205.10\n",
      "2019-01-06 19:37:41: foehnix.iwls_logit: Iteration 0, ll=      -149.6769, unregularized\n",
      "2019-01-06 19:37:41: foehnix.iwls_logit: Iteration 1, ll=      -149.6761, unregularized\n",
      "2019-01-06 19:37:41: foehnix.iwls_logit: Iteration 2, ll=      -149.6761, unregularized\n",
      "2019-01-06 19:37:41: foehnix.iwls_logit: Iteration 3, ll=      -149.6761, unregularized\n",
      "2019-01-06 19:37:41: foehnix.foehnix: EM iteration 3/100, ll =   -3202.81\n",
      "2019-01-06 19:37:41: foehnix.iwls_logit: Iteration 0, ll=      -145.9863, unregularized\n",
      "2019-01-06 19:37:41: foehnix.iwls_logit: Iteration 1, ll=      -145.9861, unregularized\n",
      "2019-01-06 19:37:41: foehnix.iwls_logit: Iteration 2, ll=      -145.9861, unregularized\n",
      "2019-01-06 19:37:41: foehnix.foehnix: EM iteration 4/100, ll =   -3201.59\n",
      "2019-01-06 19:37:41: foehnix.iwls_logit: Iteration 0, ll=      -143.5938, unregularized\n",
      "2019-01-06 19:37:41: foehnix.iwls_logit: Iteration 1, ll=      -143.5938, unregularized\n",
      "2019-01-06 19:37:41: foehnix.iwls_logit: Iteration 2, ll=      -143.5938, unregularized\n",
      "2019-01-06 19:37:41: foehnix.foehnix: EM iteration 5/100, ll =   -3200.86\n",
      "2019-01-06 19:37:41: foehnix.iwls_logit: Iteration 0, ll=      -142.0365, unregularized\n",
      "2019-01-06 19:37:41: foehnix.iwls_logit: Iteration 1, ll=      -142.0365, unregularized\n",
      "2019-01-06 19:37:41: foehnix.iwls_logit: Iteration 2, ll=      -142.0365, unregularized\n",
      "2019-01-06 19:37:41: foehnix.foehnix: EM iteration 6/100, ll =   -3200.42\n",
      "2019-01-06 19:37:41: foehnix.iwls_logit: Iteration 0, ll=      -141.0402, unregularized\n",
      "2019-01-06 19:37:41: foehnix.iwls_logit: Iteration 1, ll=      -141.0402, unregularized\n",
      "2019-01-06 19:37:41: foehnix.iwls_logit: Iteration 2, ll=      -141.0402, unregularized\n",
      "2019-01-06 19:37:41: foehnix.foehnix: EM iteration 7/100, ll =   -3200.17\n",
      "2019-01-06 19:37:41: foehnix.iwls_logit: Iteration 0, ll=      -140.4209, unregularized\n",
      "2019-01-06 19:37:41: foehnix.iwls_logit: Iteration 1, ll=      -140.4209, unregularized\n",
      "2019-01-06 19:37:41: foehnix.iwls_logit: Iteration 2, ll=      -140.4209, unregularized\n",
      "2019-01-06 19:37:41: foehnix.foehnix: EM iteration 8/100, ll =   -3200.03\n",
      "2019-01-06 19:37:41: foehnix.iwls_logit: Iteration 0, ll=      -140.0522, unregularized\n",
      "2019-01-06 19:37:41: foehnix.iwls_logit: Iteration 1, ll=      -140.0522, unregularized\n",
      "2019-01-06 19:37:41: foehnix.iwls_logit: Iteration 2, ll=      -140.0522, unregularized\n",
      "2019-01-06 19:37:41: foehnix.foehnix: EM iteration 9/100, ll =   -3199.97\n",
      "2019-01-06 19:37:41: foehnix.iwls_logit: Iteration 0, ll=      -139.8471, unregularized\n",
      "2019-01-06 19:37:41: foehnix.iwls_logit: Iteration 1, ll=      -139.8471, unregularized\n",
      "2019-01-06 19:37:41: foehnix.iwls_logit: Iteration 2, ll=      -139.8471, unregularized\n",
      "2019-01-06 19:37:41: foehnix.foehnix: EM iteration 10/100, ll =   -3199.96\n",
      "2019-01-06 19:37:41: foehnix.iwls_logit: Iteration 0, ll=      -139.7464, unregularized\n",
      "2019-01-06 19:37:41: foehnix.iwls_logit: Iteration 1, ll=      -139.7464, unregularized\n",
      "2019-01-06 19:37:41: foehnix.iwls_logit: Iteration 2, ll=      -139.7464, unregularized\n",
      "2019-01-06 19:37:41: foehnix.foehnix: EM iteration 11/100, ll =   -3199.96\n",
      "2019-01-06 19:37:41: foehnix.foehnix: Estimation finished, create final object.\n"
     ]
    }
   ],
   "source": [
    "# Create a advanced Class\n",
    "advanced = foehnix.Foehnix('ff', data ,concomitant='rh')"
   ]
  },
  {
   "cell_type": "code",
   "execution_count": 5,
   "metadata": {},
   "outputs": [
    {
     "name": "stdout",
     "output_type": "stream",
     "text": [
      "\n",
      "Number of observations (total)     1000\n",
      "Removed due to missing values         0 (0.0 percent)\n",
      "Outside defined wind sector           0 (0.0 percent)\n",
      "Used for classification            1000 (100.0 percent)\n",
      "\n",
      "Climatological foehn occurance 45.90 percent (on n = 1000)\n",
      "Mean foehn probability 46.07 percent (on n = 1000)\n",
      "\n",
      "Log-likelihood: -3200.0, -999 effective degrees of freedom\n",
      "Corresponding AIC = 6411.9, BIC = 6441.4\n",
      "\n"
     ]
    }
   ],
   "source": [
    "advanced.summary()\n"
   ]
  },
  {
   "cell_type": "code",
   "execution_count": null,
   "metadata": {},
   "outputs": [],
   "source": []
  },
  {
   "cell_type": "code",
   "execution_count": null,
   "metadata": {},
   "outputs": [],
   "source": []
  }
 ],
 "metadata": {
  "kernelspec": {
   "display_name": "Python 3",
   "language": "python",
   "name": "python3"
  },
  "language_info": {
   "codemirror_mode": {
    "name": "ipython",
    "version": 3
   },
   "file_extension": ".py",
   "mimetype": "text/x-python",
   "name": "python",
   "nbconvert_exporter": "python",
   "pygments_lexer": "ipython3",
   "version": "3.5.2"
  }
 },
 "nbformat": 4,
 "nbformat_minor": 2
}
