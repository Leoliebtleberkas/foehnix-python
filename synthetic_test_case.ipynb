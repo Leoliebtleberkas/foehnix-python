{
 "cells": [
  {
   "cell_type": "code",
   "execution_count": null,
   "metadata": {},
   "outputs": [],
   "source": [
    "# Import essentials\n",
    "import numpy as np\n",
    "import pandas as pd\n",
    "\n",
    "from phoeton.fhoenclass import SimpleFhoenClassification, AdvancedFhoenClassification\n",
    "\n",
    "# Set up my data\n",
    "np.random.seed(1)\n",
    "\n",
    "# data points\n",
    "N = 1000\n",
    "# wind speed\n",
    "mu1 = 10\n",
    "mu2 = 25\n",
    "sd1 = 4\n",
    "sd2 = 7\n",
    "\n",
    "ff = np.random.normal(loc=mu1, scale=sd1, size=int(N/2))\n",
    "ff = np.append(ff, np.random.normal(loc=mu2, scale=sd2, size=int(N/2)))\n",
    "\n",
    "# relative humidity\n",
    "rh = 70 - ff + np.random.normal(loc=0, scale=5, size=N)\n",
    "\n",
    "# make a pandas data frame\n",
    "data = pd.DataFrame({'ff': ff, 'rh': rh})\n",
    "\n"
   ]
  },
  {
   "cell_type": "code",
   "execution_count": null,
   "metadata": {},
   "outputs": [],
   "source": [
    "# Create a simple Class\n",
    "simple = SimpleFhoenClassification(data)"
   ]
  },
  {
   "cell_type": "code",
   "execution_count": null,
   "metadata": {},
   "outputs": [],
   "source": [
    "# and fit the data\n",
    "simple.fit('ff', 'rh', maxiter=10)"
   ]
  },
  {
   "cell_type": "code",
   "execution_count": null,
   "metadata": {},
   "outputs": [],
   "source": [
    "# Create a advanced Class\n",
    "advanced = AdvancedFhoenClassification(data)"
   ]
  },
  {
   "cell_type": "code",
   "execution_count": null,
   "metadata": {},
   "outputs": [],
   "source": [
    "advanced.fit('ff', 'rh', maxiter=10)"
   ]
  },
  {
   "cell_type": "code",
   "execution_count": null,
   "metadata": {},
   "outputs": [],
   "source": []
  }
 ],
 "metadata": {
  "kernelspec": {
   "display_name": "Python 3",
   "language": "python",
   "name": "python3"
  },
  "language_info": {
   "codemirror_mode": {
    "name": "ipython",
    "version": 3
   },
   "file_extension": ".py",
   "mimetype": "text/x-python",
   "name": "python",
   "nbconvert_exporter": "python",
   "pygments_lexer": "ipython3",
   "version": "3.5.2"
  }
 },
 "nbformat": 4,
 "nbformat_minor": 2
}
