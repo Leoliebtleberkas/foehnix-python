{
 "cells": [
  {
   "cell_type": "code",
   "execution_count": 1,
   "metadata": {},
   "outputs": [],
   "source": [
    "# Import essentials\n",
    "import numpy as np\n",
    "import pandas as pd\n",
    "\n",
    "import foehnix\n",
    "\n",
    "ellboegen = pd.read_csv('data/ellboegen.csv', delimiter=';', skipinitialspace=True)\n",
    "sattelberg = pd.read_csv('data/sattelberg.csv', delimiter=';', skipinitialspace=True)\n",
    "\n",
    "data = pd.merge(ellboegen, sattelberg,on='timestamp', how='outer', suffixes=('', '_crest'), sort=True)\n",
    "data.index = pd.to_datetime(data.timestamp, unit='s')\n",
    "\n",
    "train=data.iloc[:-10].copy()\n",
    "test=data.iloc[-10:].copy()\n",
    "\n",
    "train['diff_t'] = train['t_crest'] + 10.27 - train['t']\n",
    "\n",
    "ddfilter= {'dd': [43, 223], 'dd_crest': [90, 270]}\n",
    "\n"
   ]
  },
  {
   "cell_type": "code",
   "execution_count": 2,
   "metadata": {
    "scrolled": true
   },
   "outputs": [
    {
     "name": "stderr",
     "output_type": "stream",
     "text": [
      "2019-01-07 11:46:40: foehnix.foehnix_filter: Applied limit-filter to key dd\n",
      "2019-01-07 11:46:40: foehnix.foehnix_filter: Applied limit-filter to key dd_crest\n",
      "2019-01-07 11:46:40: foehnix.foehnix: Calling Foehnix.unreg_fit\n",
      "2019-01-07 11:46:40: foehnix.iwls_logit: Iteration 0, ll=     -8254.5229, unregularized\n",
      "2019-01-07 11:46:40: foehnix.iwls_logit: Iteration 1, ll=     -7812.6704, unregularized\n",
      "2019-01-07 11:46:40: foehnix.iwls_logit: Iteration 2, ll=     -7777.9951, unregularized\n",
      "2019-01-07 11:46:40: foehnix.iwls_logit: Iteration 3, ll=     -7777.6502, unregularized\n",
      "2019-01-07 11:46:40: foehnix.iwls_logit: Iteration 4, ll=     -7777.6502, unregularized\n",
      "2019-01-07 11:46:40: foehnix.iwls_logit: Iteration 5, ll=     -7777.6502, unregularized\n",
      "2019-01-07 11:46:41: foehnix.iwls_logit: Iteration 0, ll=     -6230.7584, unregularized\n",
      "2019-01-07 11:46:41: foehnix.iwls_logit: Iteration 1, ll=     -6218.2072, unregularized\n",
      "2019-01-07 11:46:41: foehnix.iwls_logit: Iteration 2, ll=     -6218.1410, unregularized\n",
      "2019-01-07 11:46:41: foehnix.iwls_logit: Iteration 3, ll=     -6218.1410, unregularized\n",
      "2019-01-07 11:46:41: foehnix.iwls_logit: Iteration 4, ll=     -6218.1410, unregularized\n",
      "2019-01-07 11:46:41: foehnix.foehnix: EM iteration 0/100, ll =  -42834.74\n",
      "2019-01-07 11:46:41: foehnix.iwls_logit: Iteration 0, ll=     -5163.5157, unregularized\n",
      "2019-01-07 11:46:41: foehnix.iwls_logit: Iteration 1, ll=     -5159.3636, unregularized\n",
      "2019-01-07 11:46:41: foehnix.iwls_logit: Iteration 2, ll=     -5159.3550, unregularized\n",
      "2019-01-07 11:46:41: foehnix.iwls_logit: Iteration 3, ll=     -5159.3550, unregularized\n",
      "2019-01-07 11:46:41: foehnix.iwls_logit: Iteration 4, ll=     -5159.3550, unregularized\n",
      "2019-01-07 11:46:41: foehnix.foehnix: EM iteration 1/100, ll =  -41367.52\n",
      "2019-01-07 11:46:41: foehnix.iwls_logit: Iteration 0, ll=     -4684.9248, unregularized\n",
      "2019-01-07 11:46:41: foehnix.iwls_logit: Iteration 1, ll=     -4684.3420, unregularized\n",
      "2019-01-07 11:46:41: foehnix.iwls_logit: Iteration 2, ll=     -4684.3418, unregularized\n",
      "2019-01-07 11:46:41: foehnix.iwls_logit: Iteration 3, ll=     -4684.3418, unregularized\n",
      "2019-01-07 11:46:41: foehnix.foehnix: EM iteration 2/100, ll =  -40927.69\n",
      "2019-01-07 11:46:41: foehnix.iwls_logit: Iteration 0, ll=     -4472.3738, unregularized\n",
      "2019-01-07 11:46:41: foehnix.iwls_logit: Iteration 1, ll=     -4472.2492, unregularized\n",
      "2019-01-07 11:46:41: foehnix.iwls_logit: Iteration 2, ll=     -4472.2491, unregularized\n",
      "2019-01-07 11:46:41: foehnix.iwls_logit: Iteration 3, ll=     -4472.2491, unregularized\n",
      "2019-01-07 11:46:41: foehnix.foehnix: EM iteration 3/100, ll =  -40766.27\n",
      "2019-01-07 11:46:41: foehnix.iwls_logit: Iteration 0, ll=     -4361.6520, unregularized\n",
      "2019-01-07 11:46:41: foehnix.iwls_logit: Iteration 1, ll=     -4361.6126, unregularized\n",
      "2019-01-07 11:46:41: foehnix.iwls_logit: Iteration 2, ll=     -4361.6126, unregularized\n",
      "2019-01-07 11:46:41: foehnix.iwls_logit: Iteration 3, ll=     -4361.6126, unregularized\n",
      "2019-01-07 11:46:41: foehnix.foehnix: EM iteration 4/100, ll =  -40692.78\n",
      "2019-01-07 11:46:41: foehnix.iwls_logit: Iteration 0, ll=     -4301.2178, unregularized\n",
      "2019-01-07 11:46:41: foehnix.iwls_logit: Iteration 1, ll=     -4301.2043, unregularized\n",
      "2019-01-07 11:46:41: foehnix.iwls_logit: Iteration 2, ll=     -4301.2043, unregularized\n",
      "2019-01-07 11:46:41: foehnix.iwls_logit: Iteration 3, ll=     -4301.2043, unregularized\n",
      "2019-01-07 11:46:41: foehnix.foehnix: EM iteration 5/100, ll =  -40657.15\n",
      "2019-01-07 11:46:41: foehnix.iwls_logit: Iteration 0, ll=     -4270.7886, unregularized\n",
      "2019-01-07 11:46:41: foehnix.iwls_logit: Iteration 1, ll=     -4270.7838, unregularized\n",
      "2019-01-07 11:46:41: foehnix.iwls_logit: Iteration 2, ll=     -4270.7838, unregularized\n",
      "2019-01-07 11:46:41: foehnix.iwls_logit: Iteration 3, ll=     -4270.7838, unregularized\n",
      "2019-01-07 11:46:41: foehnix.foehnix: EM iteration 6/100, ll =  -40640.87\n",
      "2019-01-07 11:46:41: foehnix.iwls_logit: Iteration 0, ll=     -4259.0282, unregularized\n",
      "2019-01-07 11:46:41: foehnix.iwls_logit: Iteration 1, ll=     -4259.0264, unregularized\n",
      "2019-01-07 11:46:41: foehnix.iwls_logit: Iteration 2, ll=     -4259.0264, unregularized\n",
      "2019-01-07 11:46:41: foehnix.foehnix: EM iteration 7/100, ll =  -40634.98\n",
      "2019-01-07 11:46:41: foehnix.iwls_logit: Iteration 0, ll=     -4258.5826, unregularized\n",
      "2019-01-07 11:46:41: foehnix.iwls_logit: Iteration 1, ll=     -4258.5819, unregularized\n",
      "2019-01-07 11:46:41: foehnix.iwls_logit: Iteration 2, ll=     -4258.5819, unregularized\n",
      "2019-01-07 11:46:41: foehnix.foehnix: EM iteration 8/100, ll =  -40634.65\n",
      "2019-01-07 11:46:41: foehnix.iwls_logit: Iteration 0, ll=     -4264.5780, unregularized\n",
      "2019-01-07 11:46:41: foehnix.iwls_logit: Iteration 1, ll=     -4264.5777, unregularized\n",
      "2019-01-07 11:46:41: foehnix.iwls_logit: Iteration 2, ll=     -4264.5777, unregularized\n",
      "2019-01-07 11:46:41: foehnix.foehnix: EM iteration 9/100, ll =  -40637.14\n",
      "2019-01-07 11:46:41: foehnix.foehnix: Estimation finished, create final object.\n"
     ]
    }
   ],
   "source": [
    "mod =  foehnix.Foehnix('diff_t', train ,concomitant='ff', filter_method=ddfilter, switch=True)"
   ]
  },
  {
   "cell_type": "code",
   "execution_count": 3,
   "metadata": {},
   "outputs": [
    {
     "name": "stdout",
     "output_type": "stream",
     "text": [
      "\n",
      "Number of observations (total)    71346\n",
      "Removed due to missing values      4660 (6.5 percent)\n",
      "Outside defined wind sector       49066 (68.8 percent)\n",
      "Used for classification           17620 (24.7 percent)\n",
      "\n",
      "Climatological foehn occurance 12.27 percent (on n = 66686)\n",
      "Mean foehn probability 12.13 percent (on n = 66686)\n",
      "\n",
      "Log-likelihood: -40634.7, -999 effective degrees of freedom\n",
      "Corresponding AIC = 81281.3, BIC = 81328.0\n",
      "\n"
     ]
    }
   ],
   "source": [
    "mod.summary()"
   ]
  },
  {
   "cell_type": "code",
   "execution_count": null,
   "metadata": {},
   "outputs": [],
   "source": []
  }
 ],
 "metadata": {
  "kernelspec": {
   "display_name": "Python 3",
   "language": "python",
   "name": "python3"
  },
  "language_info": {
   "codemirror_mode": {
    "name": "ipython",
    "version": 3
   },
   "file_extension": ".py",
   "mimetype": "text/x-python",
   "name": "python",
   "nbconvert_exporter": "python",
   "pygments_lexer": "ipython3",
   "version": "3.5.2"
  }
 },
 "nbformat": 4,
 "nbformat_minor": 2
}
