{
 "cells": [
  {
   "cell_type": "code",
   "execution_count": 1,
   "metadata": {},
   "outputs": [],
   "source": [
    "# Import essentials\n",
    "import numpy as np\n",
    "import pandas as pd\n",
    "\n",
    "import foehnix\n",
    "\n",
    "ellboegen = pd.read_csv('data/ellboegen.csv', delimiter=';', skipinitialspace=True)\n",
    "sattelberg = pd.read_csv('data/sattelberg.csv', delimiter=';', skipinitialspace=True)\n",
    "\n",
    "data = pd.merge(ellboegen, sattelberg,on='timestamp', how='outer', suffixes=('', '_crest'), sort=True)\n",
    "data.index = pd.to_datetime(data.timestamp, unit='s')\n",
    "\n",
    "train=data.iloc[:-10].copy()\n",
    "test=data.iloc[-10:].copy()\n",
    "\n",
    "train['diff_t'] = train['t_crest'] + 10.27 - train['t']\n",
    "\n",
    "ddfilter= {'dd': [43, 223], 'dd_crest': [90, 270]}\n",
    "\n"
   ]
  },
  {
   "cell_type": "code",
   "execution_count": null,
   "metadata": {
    "scrolled": true
   },
   "outputs": [
    {
     "name": "stdout",
     "output_type": "stream",
     "text": [
      "> /home/matthias/foehnix/foehnix-python/foehnix/foehnix.py(168)__init__()\n",
      "-> if not data.index.is_monotonic_increasing:\n"
     ]
    }
   ],
   "source": [
    "mod =  foehnix.Foehnix('diff_t', train ,concomitant='ff', filter_method=ddfilter, switch=True)"
   ]
  },
  {
   "cell_type": "code",
   "execution_count": null,
   "metadata": {},
   "outputs": [],
   "source": [
    "mod.summary()"
   ]
  },
  {
   "cell_type": "code",
   "execution_count": null,
   "metadata": {},
   "outputs": [],
   "source": []
  }
 ],
 "metadata": {
  "kernelspec": {
   "display_name": "Python 3",
   "language": "python",
   "name": "python3"
  },
  "language_info": {
   "codemirror_mode": {
    "name": "ipython",
    "version": 3
   },
   "file_extension": ".py",
   "mimetype": "text/x-python",
   "name": "python",
   "nbconvert_exporter": "python",
   "pygments_lexer": "ipython3",
   "version": "3.5.2"
  }
 },
 "nbformat": 4,
 "nbformat_minor": 2
}
